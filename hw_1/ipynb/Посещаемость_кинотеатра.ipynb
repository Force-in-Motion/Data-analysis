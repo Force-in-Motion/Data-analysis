{
  "nbformat": 4,
  "nbformat_minor": 0,
  "metadata": {
    "colab": {
      "provenance": []
    },
    "kernelspec": {
      "name": "python3",
      "display_name": "Python 3"
    },
    "language_info": {
      "name": "python"
    }
  },
  "cells": [
    {
      "cell_type": "code",
      "source": [
        "import numpy as np\n",
        "import csv"
      ],
      "metadata": {
        "id": "OR5HjEPHAcuF"
      },
      "execution_count": 1,
      "outputs": []
    },
    {
      "cell_type": "markdown",
      "source": [
        "Функция получает данные из файла и преобразует в матрицу строк"
      ],
      "metadata": {
        "id": "qVIxa2SdEZ6t"
      }
    },
    {
      "cell_type": "code",
      "source": [
        "def read_data_csv():\n",
        "  matrix = []\n",
        "\n",
        "  with open('attendance.csv', 'r', newline='') as f:\n",
        "    data = csv.reader(f)\n",
        "\n",
        "    for row in data:\n",
        "      for elem in row:\n",
        "        matrix.append(elem.split(','))\n",
        "\n",
        "    return matrix\n"
      ],
      "metadata": {
        "id": "MqiL_g4HAsqc"
      },
      "execution_count": 10,
      "outputs": []
    },
    {
      "cell_type": "markdown",
      "source": [
        "Функция создает список чисел из полученной матрицы"
      ],
      "metadata": {
        "id": "Z34jT3SoEd-F"
      }
    },
    {
      "cell_type": "code",
      "source": [
        "def get_mums(data):\n",
        "  nums = []\n",
        "\n",
        "  for row in data:\n",
        "    for elem in row:\n",
        "      if elem.isdigit(): nums.append(int(elem))\n",
        "\n",
        "  return nums\n"
      ],
      "metadata": {
        "id": "3U2H4eMmBxxD"
      },
      "execution_count": 11,
      "outputs": []
    },
    {
      "cell_type": "markdown",
      "source": [
        "Вызовы функций для получения данных"
      ],
      "metadata": {
        "id": "k7pcM0BKFQnu"
      }
    },
    {
      "cell_type": "code",
      "source": [
        "data = read_data_csv()\n",
        "nums = get_mums(data)"
      ],
      "metadata": {
        "id": "tFapmxwCQre6"
      },
      "execution_count": 16,
      "outputs": []
    },
    {
      "cell_type": "markdown",
      "source": [
        "Среднее количество посещений"
      ],
      "metadata": {
        "id": "v--2eg4lGb0e"
      }
    },
    {
      "cell_type": "code",
      "source": [
        "avg = np.mean(nums)"
      ],
      "metadata": {
        "id": "-FRILHrXUSu3"
      },
      "execution_count": 13,
      "outputs": []
    },
    {
      "cell_type": "markdown",
      "source": [
        "Медиана посещаемости"
      ],
      "metadata": {
        "id": "vfT_uSbOGntQ"
      }
    },
    {
      "cell_type": "code",
      "source": [
        "median = np.median(nums)"
      ],
      "metadata": {
        "id": "E97Dd1m8UwE0"
      },
      "execution_count": 15,
      "outputs": []
    },
    {
      "cell_type": "markdown",
      "source": [
        "День с максимальной посещаемостью"
      ],
      "metadata": {
        "id": "jYyF0G4NGu_S"
      }
    },
    {
      "cell_type": "code",
      "source": [
        "max = np.max(nums)"
      ],
      "metadata": {
        "id": "fp6ymkNGVpNf"
      },
      "execution_count": 17,
      "outputs": []
    },
    {
      "cell_type": "markdown",
      "source": [
        "День с минимальной посещаемостью"
      ],
      "metadata": {
        "id": "hB4g6uWUGsTh"
      }
    },
    {
      "cell_type": "code",
      "source": [
        "min = np.min(nums)"
      ],
      "metadata": {
        "id": "0m_-5qCuYVQ0"
      },
      "execution_count": 18,
      "outputs": []
    },
    {
      "cell_type": "markdown",
      "source": [
        "Стандартное отклонение посещаемости"
      ],
      "metadata": {
        "id": "XahKjy0FGxzb"
      }
    },
    {
      "cell_type": "code",
      "source": [
        "sqrt = np.sqrt(nums)"
      ],
      "metadata": {
        "id": "DU6oDGwIZeJc"
      },
      "execution_count": 19,
      "outputs": []
    },
    {
      "cell_type": "code",
      "source": [
        "print(f'Среднее количество посещений: {avg}')\n",
        "print(f'Медиана посещаемости: {median}')\n",
        "print(f'Стандартное отклонение посещаемости: {sqrt}')\n",
        "print(f'День с минимальной посещаемостью: {min}')\n",
        "print(f'День с максимальной посещаемостью: {max}')"
      ],
      "metadata": {
        "colab": {
          "base_uri": "https://localhost:8080/"
        },
        "id": "ddhB0mnbYphN",
        "outputId": "b6bfffdc-051c-4689-fa94-7a0b2f2abd6f"
      },
      "execution_count": 20,
      "outputs": [
        {
          "output_type": "stream",
          "name": "stdout",
          "text": [
            "Среднее количество посещений: 258.57142857142856\n",
            "Медиана посещаемости: 200.0\n",
            "Стандартное отклонение посещаемости: [10.95445115 12.24744871  9.48683298 14.14213562 17.32050808 22.36067977\n",
            " 21.21320344]\n",
            "День с минимальной посещаемостью: 90\n",
            "День с максимальной посещаемостью: 500\n"
          ]
        }
      ]
    }
  ]
}
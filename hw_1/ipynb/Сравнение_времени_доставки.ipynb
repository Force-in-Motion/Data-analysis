{
  "nbformat": 4,
  "nbformat_minor": 0,
  "metadata": {
    "colab": {
      "provenance": []
    },
    "kernelspec": {
      "name": "python3",
      "display_name": "Python 3"
    },
    "language_info": {
      "name": "python"
    }
  },
  "cells": [
    {
      "cell_type": "code",
      "execution_count": 49,
      "metadata": {
        "id": "uNIIen6D_GBT"
      },
      "outputs": [],
      "source": [
        "import numpy as np\n",
        "from collections import Counter\n",
        "import matplotlib.pyplot as plt\n",
        "import csv"
      ]
    },
    {
      "cell_type": "markdown",
      "source": [
        "Функция получает данные из файла и преобразует в матрицу строк"
      ],
      "metadata": {
        "id": "E2FNKW76AAn6"
      }
    },
    {
      "cell_type": "code",
      "source": [
        "def read_data_csv():\n",
        "  matrix = []\n",
        "\n",
        "  with open('delivery_times.csv', 'r', newline='') as f:\n",
        "    data = csv.reader(f)\n",
        "\n",
        "    for row in data:\n",
        "      for elem in row:\n",
        "        matrix.append(elem.split(','))\n",
        "\n",
        "    return matrix"
      ],
      "metadata": {
        "id": "ugFMzCMeyJN0"
      },
      "execution_count": 50,
      "outputs": []
    },
    {
      "cell_type": "markdown",
      "source": [
        "Функция получает данные из матрицы строк и создает списки данных, разбитые по категориям, преобразуя их в инт"
      ],
      "metadata": {
        "id": "w3TY9pMTAK2L"
      }
    },
    {
      "cell_type": "code",
      "source": [
        "def get_delivery_times(lst):\n",
        "  orders = []\n",
        "  delivery_a = []\n",
        "  delivery_b = []\n",
        "\n",
        "  for row in lst:\n",
        "    if row[0].isdigit(): orders.append(int(row[0]))\n",
        "    if row[1].isdigit(): delivery_a.append(int(row[1]))\n",
        "    if row[2].isdigit(): delivery_b.append(int(row[2]))\n",
        "\n",
        "  return orders, delivery_a, delivery_b"
      ],
      "metadata": {
        "id": "ifN8Roxuz4yc"
      },
      "execution_count": 51,
      "outputs": []
    },
    {
      "cell_type": "markdown",
      "source": [
        "Вызовы функций для получения данных"
      ],
      "metadata": {
        "id": "bGx-MTWPA0ar"
      }
    },
    {
      "cell_type": "code",
      "source": [
        "lst = read_data_csv()\n",
        "orders, delivery_a, delivery_b = get_delivery_times(lst)"
      ],
      "metadata": {
        "id": "7dlmnXzT15eH"
      },
      "execution_count": 52,
      "outputs": []
    },
    {
      "cell_type": "markdown",
      "source": [],
      "metadata": {
        "id": "AM64dVl4Dcaa"
      }
    },
    {
      "cell_type": "markdown",
      "source": [
        "Среднее значение доставки компании А"
      ],
      "metadata": {
        "id": "mbgSx583A8B5"
      }
    },
    {
      "cell_type": "code",
      "source": [
        "avg_a = np.mean(delivery_a)"
      ],
      "metadata": {
        "id": "P6V4YCt62cmK"
      },
      "execution_count": 53,
      "outputs": []
    },
    {
      "cell_type": "markdown",
      "source": [
        "Среднее значение доставки компании Б"
      ],
      "metadata": {
        "id": "h6e3xw9jBDt1"
      }
    },
    {
      "cell_type": "code",
      "source": [
        "avg_b = np.mean(delivery_b)"
      ],
      "metadata": {
        "id": "PBYZJ0PU2tC4"
      },
      "execution_count": 54,
      "outputs": []
    },
    {
      "cell_type": "markdown",
      "source": [
        "Медиана времени доставки службой А"
      ],
      "metadata": {
        "id": "KLrdqI1pBJ6t"
      }
    },
    {
      "cell_type": "code",
      "source": [
        "median_a = np.median(delivery_a)"
      ],
      "metadata": {
        "id": "wJ-dwlCY23N6"
      },
      "execution_count": 55,
      "outputs": []
    },
    {
      "cell_type": "markdown",
      "source": [
        "Медиана времени доставки службой Б"
      ],
      "metadata": {
        "id": "YjVTJ1NBBPy0"
      }
    },
    {
      "cell_type": "code",
      "source": [
        "median_b = np.median(delivery_b)"
      ],
      "metadata": {
        "id": "YhRRezEp3Etu"
      },
      "execution_count": 56,
      "outputs": []
    },
    {
      "cell_type": "markdown",
      "source": [
        "Стандартное отклонение времени доставки службой А"
      ],
      "metadata": {
        "id": "GSQW3_f2Bd-1"
      }
    },
    {
      "cell_type": "code",
      "source": [
        "sqrt_a = np.sqrt(delivery_a)"
      ],
      "metadata": {
        "id": "5mNlIiCW3ske"
      },
      "execution_count": 57,
      "outputs": []
    },
    {
      "cell_type": "markdown",
      "source": [
        "Стандартное отклонение времени доставки службой Б"
      ],
      "metadata": {
        "id": "jL4QR65bBe88"
      }
    },
    {
      "cell_type": "code",
      "source": [
        "sqrt_b = np.sqrt(delivery_b)"
      ],
      "metadata": {
        "id": "tzYRgVu634tu"
      },
      "execution_count": 58,
      "outputs": []
    },
    {
      "cell_type": "code",
      "source": [
        "print(f'Среднее время доставки службой А: {avg_a}')\n",
        "print(f'Среднее время доставки службой Б: {avg_b}')\n",
        "print(f'Медиана времени доставки службой А: {median_a}, службой Б: {median_b}')\n",
        "print(f'Стандартное отклонение времени доставки службой А: {sqrt_a}, службой Б: {sqrt_b}')\n",
        "print(f'Графики для сравнения времени доставки.')"
      ],
      "metadata": {
        "colab": {
          "base_uri": "https://localhost:8080/"
        },
        "id": "d7jGch8O5i2E",
        "outputId": "007cd213-b9b7-4240-abd4-c9d71a20ea48"
      },
      "execution_count": 59,
      "outputs": [
        {
          "output_type": "stream",
          "name": "stdout",
          "text": [
            "Среднее время доставки службой А: 24.0\n",
            "Среднее время доставки службой Б: 22.4\n",
            "Медиана времени доставки службой А: 24.0, службой Б: 22.0\n",
            "Стандартное отклонение времени доставки службой А: [4.89897949 5.47722558 4.         4.69041576 5.29150262], службой Б: [4.69041576 5.29150262 4.47213595 4.24264069 4.89897949]\n",
            "Графики для сравнения времени доставки.\n"
          ]
        }
      ]
    },
    {
      "cell_type": "markdown",
      "source": [
        "# Линейный график, отражающий время доставки обоих служб из учета количества заказов"
      ],
      "metadata": {
        "id": "GP5dWdYxBt5F"
      }
    },
    {
      "cell_type": "code",
      "source": [
        "plt.plot(orders, delivery_a)\n",
        "plt.plot(orders, delivery_b)\n",
        "plt.show()\n"
      ],
      "metadata": {
        "colab": {
          "base_uri": "https://localhost:8080/",
          "height": 430
        },
        "id": "dYo4voLb7FHh",
        "outputId": "247cc73f-1857-426d-fc9d-1086bf2991a0"
      },
      "execution_count": 60,
      "outputs": [
        {
          "output_type": "display_data",
          "data": {
            "text/plain": [
              "<Figure size 640x480 with 1 Axes>"
            ],
            "image/png": "[encoded data removed]"
          },
          "metadata": {}
        }
      ]
    },
    {
      "cell_type": "markdown",
      "source": [
        "# Гистограмма службы доставки А из учета количества заказов"
      ],
      "metadata": {
        "id": "sNnsH9DHB5f-"
      }
    },
    {
      "cell_type": "code",
      "source": [
        "orders = np.array(orders)\n",
        "delivery_a = np.array(delivery_a)\n",
        "\n",
        "plt.bar(orders, delivery_a)\n",
        "plt.xlabel('Заказы')\n",
        "plt.ylabel('Время доставки')\n",
        "plt.show()"
      ],
      "metadata": {
        "colab": {
          "base_uri": "https://localhost:8080/",
          "height": 449
        },
        "id": "m9j5ZQa_8q7u",
        "outputId": "bbc958bf-b4c1-4659-bed9-8b332a89f4b9"
      },
      "execution_count": 61,
      "outputs": [
        {
          "output_type": "display_data",
          "data": {
            "text/plain": [
              "<Figure size 640x480 with 1 Axes>"
            ],
            "image/png": "[encoded data removed]"
          },
          "metadata": {}
        }
      ]
    },
    {
      "cell_type": "markdown",
      "source": [
        "# Гистограмма службы доставки Б из учета количества заказов"
      ],
      "metadata": {
        "id": "Zcf-gPvfCd6z"
      }
    },
    {
      "cell_type": "code",
      "source": [
        "orders = np.array(orders)\n",
        "delivery_b = np.array(delivery_b)\n",
        "\n",
        "plt.bar(orders, delivery_b)\n",
        "plt.xlabel('Заказы')\n",
        "plt.ylabel('Время доставки')\n",
        "plt.show()"
      ],
      "metadata": {
        "colab": {
          "base_uri": "https://localhost:8080/",
          "height": 449
        },
        "id": "cMhc671e_scW",
        "outputId": "bacfc159-a6a7-4793-b3a4-189a7612d29e"
      },
      "execution_count": 62,
      "outputs": [
        {
          "output_type": "display_data",
          "data": {
            "text/plain": [
              "<Figure size 640x480 with 1 Axes>"
            ],
            "image/png": "[encoded data removed]"
          },
          "metadata": {}
        }
      ]
    }
  ]
}
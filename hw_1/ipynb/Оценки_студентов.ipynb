{
  "nbformat": 4,
  "nbformat_minor": 0,
  "metadata": {
    "colab": {
      "provenance": []
    },
    "kernelspec": {
      "name": "python3",
      "display_name": "Python 3"
    },
    "language_info": {
      "name": "python"
    }
  },
  "cells": [
    {
      "cell_type": "code",
      "execution_count": 2,
      "metadata": {
        "id": "elSoO62Hn4EP"
      },
      "outputs": [],
      "source": [
        "import numpy as np\n",
        "from collections import Counter\n",
        "import matplotlib.pyplot as plt\n",
        "import csv"
      ]
    },
    {
      "cell_type": "markdown",
      "source": [
        "Функция получает данные из файла и преобразует в матрицу строк"
      ],
      "metadata": {
        "id": "cLJoQIIvCobn"
      }
    },
    {
      "cell_type": "code",
      "source": [
        "def read_data_csv():\n",
        "  matrix = []\n",
        "\n",
        "  with open('grade_students.csv', 'r', newline='') as f:\n",
        "    data = csv.reader(f)\n",
        "\n",
        "    for row in data:\n",
        "      for elem in row:\n",
        "        matrix.append(elem.split(','))\n",
        "\n",
        "    return matrix"
      ],
      "metadata": {
        "id": "k11OoD6OoDMh"
      },
      "execution_count": 3,
      "outputs": []
    },
    {
      "cell_type": "markdown",
      "source": [
        "Функция получает данные из матрицы строк и создает списки данных, разбитые по категориям, преобразуя их в инт"
      ],
      "metadata": {
        "id": "2dQ37kSXCsMv"
      }
    },
    {
      "cell_type": "code",
      "source": [
        "def get_mums(data):\n",
        "  students = []\n",
        "  mathematics = []\n",
        "  literature = []\n",
        "\n",
        "  for row in data:\n",
        "    if row[0].isdigit(): students.append(int(row[0]))\n",
        "    if row[1].isdigit(): mathematics.append(int(row[1]))\n",
        "    if row[2].isdigit(): literature.append(int(row[2]))\n",
        "\n",
        "  return students, mathematics, literature"
      ],
      "metadata": {
        "id": "l88b5aA0xdj3"
      },
      "execution_count": 18,
      "outputs": []
    },
    {
      "cell_type": "markdown",
      "source": [
        "Вызовы функций для получения данных"
      ],
      "metadata": {
        "id": "iJw2ODS2CyxP"
      }
    },
    {
      "cell_type": "code",
      "source": [
        "lst = read_data_csv()\n",
        "students, mathematics, literature = get_mums(lst)\n"
      ],
      "metadata": {
        "id": "zT-JkCQeqPAF"
      },
      "execution_count": 19,
      "outputs": []
    },
    {
      "cell_type": "markdown",
      "source": [
        "Средний балл по математике"
      ],
      "metadata": {
        "id": "9Hn090luC3s1"
      }
    },
    {
      "cell_type": "code",
      "source": [
        "mat_avg = np.mean(mathematics)"
      ],
      "metadata": {
        "id": "p-Ir29UixsGQ"
      },
      "execution_count": 20,
      "outputs": []
    },
    {
      "cell_type": "markdown",
      "source": [
        "Средний балл по литературе"
      ],
      "metadata": {
        "id": "7kdxOMRiC6dv"
      }
    },
    {
      "cell_type": "code",
      "source": [
        "lit_avg = np.mean(literature)"
      ],
      "metadata": {
        "id": "3JyKWtogzGA8"
      },
      "execution_count": 21,
      "outputs": []
    },
    {
      "cell_type": "markdown",
      "source": [
        "Медиана оценок по математике"
      ],
      "metadata": {
        "id": "9YLHcuqXC-RN"
      }
    },
    {
      "cell_type": "code",
      "source": [
        "mat_median = np.median(mathematics)"
      ],
      "metadata": {
        "id": "StEOUjaMzTDc"
      },
      "execution_count": 22,
      "outputs": []
    },
    {
      "cell_type": "markdown",
      "source": [
        "Медиана оценок по литературе"
      ],
      "metadata": {
        "id": "-PHPpJXNC_34"
      }
    },
    {
      "cell_type": "code",
      "source": [
        "lit_median = np.median(literature)"
      ],
      "metadata": {
        "id": "F3sNsQlizg4f"
      },
      "execution_count": 23,
      "outputs": []
    },
    {
      "cell_type": "markdown",
      "source": [
        "Мода оценок по математике"
      ],
      "metadata": {
        "id": "jx2T4bMbDLAY"
      }
    },
    {
      "cell_type": "code",
      "source": [
        "Counter(mathematics).most_common(1)[0][0]"
      ],
      "metadata": {
        "colab": {
          "base_uri": "https://localhost:8080/"
        },
        "id": "m69m9UTo11IL",
        "outputId": "d1a11bed-a68a-4492-b6fb-c94390f7c091"
      },
      "execution_count": 37,
      "outputs": [
        {
          "output_type": "execute_result",
          "data": {
            "text/plain": [
              "5"
            ]
          },
          "metadata": {},
          "execution_count": 37
        }
      ]
    },
    {
      "cell_type": "markdown",
      "source": [
        "Мода оценок по литературе"
      ],
      "metadata": {
        "id": "CeTg89Q8DIL6"
      }
    },
    {
      "cell_type": "code",
      "source": [
        "Counter(literature).most_common(1)[0][0]"
      ],
      "metadata": {
        "colab": {
          "base_uri": "https://localhost:8080/"
        },
        "id": "4F8ySXw52y7Z",
        "outputId": "6886fe55-a24b-4497-cd89-0df08a9c30d1"
      },
      "execution_count": 25,
      "outputs": [
        {
          "output_type": "execute_result",
          "data": {
            "text/plain": [
              "4"
            ]
          },
          "metadata": {},
          "execution_count": 25
        }
      ]
    },
    {
      "cell_type": "markdown",
      "source": [
        "Стандартное отклонение оценок по математике"
      ],
      "metadata": {
        "id": "0YTcOaTxDXV5"
      }
    },
    {
      "cell_type": "code",
      "source": [
        "mat_sqrt = np.sqrt(mathematics)"
      ],
      "metadata": {
        "id": "yBbLmsuf3Khs"
      },
      "execution_count": 26,
      "outputs": []
    },
    {
      "cell_type": "markdown",
      "source": [
        "Стандартное отклонение оценок по литературе"
      ],
      "metadata": {
        "id": "_XSaYHqWDYAP"
      }
    },
    {
      "cell_type": "code",
      "source": [
        "lit_sqrt = np.sqrt(literature)"
      ],
      "metadata": {
        "id": "WIXjzeDy3SZx"
      },
      "execution_count": 27,
      "outputs": []
    },
    {
      "cell_type": "code",
      "source": [
        "print(f'Средний балл по математике: {mat_avg}')\n",
        "print(f'Средний балл по литературе: {lit_avg}')\n",
        "print(f'Медиана оценок по математике: {mat_median}, по литературе: {lit_median}')\n",
        "print(f'Стандартное отклонение оценок по математике: {mat_sqrt}, по литературе: {lit_sqrt}')"
      ],
      "metadata": {
        "colab": {
          "base_uri": "https://localhost:8080/"
        },
        "id": "sda1UE4D9uiy",
        "outputId": "706e185c-11bf-47fd-c602-e1cd51a4be9f"
      },
      "execution_count": 36,
      "outputs": [
        {
          "output_type": "stream",
          "name": "stdout",
          "text": [
            "Средний балл по математике: 3.8\n",
            "Средний балл по литературе: 4.2\n",
            "Медиана оценок по математике: 4.0, по литературе: 4.0\n",
            "Стандартное отклонение оценок по математике: [2.23606798 1.73205081 2.         2.23606798 1.41421356], по литературе: [2.         2.23606798 1.73205081 2.23606798 2.        ]\n"
          ]
        }
      ]
    },
    {
      "cell_type": "markdown",
      "source": [
        "# Гистограмма распределения оценок по математике между учениками"
      ],
      "metadata": {
        "id": "WweDhQA1DiN0"
      }
    },
    {
      "cell_type": "code",
      "source": [
        "students = np.array(students)\n",
        "mat_grades = np.array(mathematics)\n",
        "\n",
        "plt.bar(students, mathematics)\n",
        "plt.xlabel('Студенты')\n",
        "plt.ylabel('Оценки')\n",
        "plt.title('Распределение оценок')\n",
        "plt.show()"
      ],
      "metadata": {
        "colab": {
          "base_uri": "https://localhost:8080/",
          "height": 472
        },
        "id": "ZgqhpudT4Z0i",
        "outputId": "83f68b6f-a325-4419-b336-ef743d34bca2"
      },
      "execution_count": 35,
      "outputs": [
        {
          "output_type": "display_data",
          "data": {
            "text/plain": [
              "<Figure size 640x480 with 1 Axes>"
            ],
            "image/png": "[encoded data removed]"
          },
          "metadata": {}
        }
      ]
    },
    {
      "cell_type": "markdown",
      "source": [
        "# Гистограмма распределения оценок по литературе между учениками"
      ],
      "metadata": {
        "id": "ZeutjfIeDrO2"
      }
    },
    {
      "cell_type": "code",
      "source": [
        "students = np.array(students)\n",
        "lit_grades = np.array(literature)\n",
        "\n",
        "plt.bar(students, literature)\n",
        "plt.xlabel('Студенты')\n",
        "plt.ylabel('Оценки')\n",
        "plt.title('Распределение оценок')\n",
        "plt.show()"
      ],
      "metadata": {
        "colab": {
          "base_uri": "https://localhost:8080/",
          "height": 472
        },
        "id": "OuaAFWFa-lDG",
        "outputId": "86662a3a-3960-4596-8eaf-c67307fe0336"
      },
      "execution_count": 34,
      "outputs": [
        {
          "output_type": "display_data",
          "data": {
            "text/plain": [
              "<Figure size 640x480 with 1 Axes>"
            ],
            "image/png": "[encoded data removed]"
          },
          "metadata": {}
        }
      ]
    }
  ]
}